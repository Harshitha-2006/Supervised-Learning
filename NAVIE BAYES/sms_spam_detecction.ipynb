{
 "cells": [
  {
   "cell_type": "code",
   "execution_count": 1,
   "id": "ad07406a",
   "metadata": {},
   "outputs": [],
   "source": [
    "import pandas as pd\n",
    "from sklearn.model_selection import train_test_split\n",
    "from sklearn.naive_bayes import GaussianNB"
   ]
  },
  {
   "cell_type": "code",
   "execution_count": 3,
   "id": "018d6a3d",
   "metadata": {},
   "outputs": [],
   "source": [
    "df=pd.read_csv(\"spam_sms.csv\")"
   ]
  },
  {
   "cell_type": "code",
   "execution_count": 4,
   "id": "bd6e8ef2",
   "metadata": {},
   "outputs": [],
   "source": [
    "df=df[['v1','v2']]\n",
    "df.columns=['label','message']"
   ]
  },
  {
   "cell_type": "code",
   "execution_count": 5,
   "id": "5fec22c5",
   "metadata": {},
   "outputs": [],
   "source": [
    "input=df['message']\n",
    "target=df['label']"
   ]
  },
  {
   "cell_type": "code",
   "execution_count": 6,
   "id": "36e8bf35",
   "metadata": {},
   "outputs": [
    {
     "data": {
      "text/plain": [
       "0      Go until jurong point, crazy.. Available only ...\n",
       "1                          Ok lar... Joking wif u oni...\n",
       "2      Free entry in 2 a wkly comp to win FA Cup fina...\n",
       "3      U dun say so early hor... U c already then say...\n",
       "4      Nah I don't think he goes to usf, he lives aro...\n",
       "                             ...                        \n",
       "107    How would my ip address test that considering ...\n",
       "108    I know! Grumpy old people. My mom was like you...\n",
       "109                       Dont worry. I guess he's busy.\n",
       "110             What is the plural of the noun research?\n",
       "111                      Going for dinner.msg you after.\n",
       "Name: message, Length: 112, dtype: object"
      ]
     },
     "execution_count": 6,
     "metadata": {},
     "output_type": "execute_result"
    }
   ],
   "source": [
    "input"
   ]
  },
  {
   "cell_type": "code",
   "execution_count": 7,
   "id": "91beeb4f",
   "metadata": {},
   "outputs": [
    {
     "data": {
      "text/plain": [
       "0       ham\n",
       "1       ham\n",
       "2      spam\n",
       "3       ham\n",
       "4       ham\n",
       "       ... \n",
       "107     ham\n",
       "108     ham\n",
       "109     ham\n",
       "110     ham\n",
       "111     ham\n",
       "Name: label, Length: 112, dtype: object"
      ]
     },
     "execution_count": 7,
     "metadata": {},
     "output_type": "execute_result"
    }
   ],
   "source": [
    "target"
   ]
  },
  {
   "cell_type": "code",
   "execution_count": 8,
   "id": "aa09d4f8",
   "metadata": {},
   "outputs": [],
   "source": [
    "x_train,x_test,y_train,y_test=train_test_split(df['message'],df['label'],test_size=0.2,random_state=42)"
   ]
  },
  {
   "cell_type": "code",
   "execution_count": 9,
   "id": "d1eb30a5",
   "metadata": {},
   "outputs": [],
   "source": [
    "from sklearn.feature_extraction.text import CountVectorizer\n",
    "vectorizer=CountVectorizer()\n",
    "X_train_vec=vectorizer.fit_transform(x_train)\n",
    "X_test_vec=vectorizer.transform(x_test)"
   ]
  },
  {
   "cell_type": "code",
   "execution_count": 10,
   "id": "f01b52fb",
   "metadata": {},
   "outputs": [],
   "source": [
    "X_train_dense=X_train_vec.toarray()\n",
    "X_test_dense=X_test_vec.toarray()"
   ]
  },
  {
   "cell_type": "code",
   "execution_count": 11,
   "id": "fde6f47b",
   "metadata": {},
   "outputs": [
    {
     "data": {
      "text/plain": [
       "GaussianNB(priors=None, var_smoothing=1e-09)"
      ]
     },
     "execution_count": 11,
     "metadata": {},
     "output_type": "execute_result"
    }
   ],
   "source": [
    "model=GaussianNB()\n",
    "model.fit(X_train_dense,y_train)"
   ]
  },
  {
   "cell_type": "code",
   "execution_count": 12,
   "id": "b2a82a33",
   "metadata": {},
   "outputs": [],
   "source": [
    "y_pred=model.predict(X_test_dense)"
   ]
  },
  {
   "cell_type": "code",
   "execution_count": 13,
   "id": "24ccaa98",
   "metadata": {},
   "outputs": [],
   "source": [
    "from sklearn.metrics import accuracy_score, classification_report"
   ]
  },
  {
   "cell_type": "code",
   "execution_count": 15,
   "id": "5ccf5ba1",
   "metadata": {},
   "outputs": [
    {
     "name": "stdout",
     "output_type": "stream",
     "text": [
      "Accuracy: 0.8695652173913043\n",
      "\n",
      "Classification Report:\n",
      "               precision    recall  f1-score   support\n",
      "\n",
      "         ham       0.89      0.94      0.92        18\n",
      "        spam       0.75      0.60      0.67         5\n",
      "\n",
      "    accuracy                           0.87        23\n",
      "   macro avg       0.82      0.77      0.79        23\n",
      "weighted avg       0.86      0.87      0.86        23\n",
      "\n"
     ]
    }
   ],
   "source": [
    "print(\"Accuracy:\",accuracy_score(y_test,y_pred))\n",
    "print(\"\\nClassification Report:\\n\",classification_report(y_test,y_pred))"
   ]
  },
  {
   "cell_type": "code",
   "execution_count": 18,
   "id": "e37370e5",
   "metadata": {},
   "outputs": [],
   "source": [
    "import matplotlib.pyplot as plt\n",
    "from sklearn.metrics import confusion_matrix\n",
    "import seaborn as sn"
   ]
  },
  {
   "cell_type": "code",
   "execution_count": 23,
   "id": "2da3281f",
   "metadata": {},
   "outputs": [
    {
     "data": {
      "image/png": "[encoded data removed]",
      "text/plain": [
       "<Figure size 640x480 with 2 Axes>"
      ]
     },
     "metadata": {},
     "output_type": "display_data"
    }
   ],
   "source": [
    "cm=confusion_matrix(y_test,y_pred,labels=['ham','spam'])\n",
    "sn.heatmap(cm,xticklabels=['ham','spam'],yticklabels=['ham','spam'])\n",
    "plt.title(\"Confusion Matrix\")\n",
    "plt.xlabel(\"Predicted\")\n",
    "plt.ylabel(\"Actual\")\n",
    "plt.show()"
   ]
  }
 ],
 "metadata": {
  "kernelspec": {
   "display_name": "Python 3",
   "language": "python",
   "name": "python3"
  },
  "language_info": {
   "codemirror_mode": {
    "name": "ipython",
    "version": 3
   },
   "file_extension": ".py",
   "mimetype": "text/x-python",
   "name": "python",
   "nbconvert_exporter": "python",
   "pygments_lexer": "ipython3",
   "version": "3.7.4"
  }
 },
 "nbformat": 4,
 "nbformat_minor": 5
}
